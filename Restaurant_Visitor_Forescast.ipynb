{
 "cells": [
  {
   "cell_type": "markdown",
   "metadata": {},
   "source": [
    "# Restaurant Visitor Forescast(음식점의 미래 방문객 수 예측)"
   ]
  },
  {
   "cell_type": "markdown",
   "metadata": {},
   "source": [
    "## 프로젝트 개요\n",
    "- 레스토랑 운영에는 효율적인 인력 관리, 신선한 재료 구매 및 보관 등 다양한 요소가 고려되어야 함. 특히, 손님이 레스토랑을 방문하는 시기 및 주기를 파악한다면 식재료 소비량 및 직원 스케줄 관리 등을 진행하는 데에 많은 도움을 받을 수 있음\n",
    "- 최근, 이러한 수요에 부한하는 서비스인 '테이블메니저'에서는 매장 예약 및 고객 데이터를 AI로 분석해 예측 모델 만들어 다음 주의 판매 수요를 예측하고 이를 각 점주들에게 전달해 식자재 등 원가를 절감할 수 있도록 돕고 있음\n",
    "- 또한, 공석으로 예측되는 테이블을 제휴 채널을 통해 판매하는 '빈자리 예측'은 이미 업장에 적용되어 높은 적중률 보이며 매출 올리는 성과 보이고 있음. 이러한 기술 통해 외식산업 소상공인들의 영업이익을 높이고 폐업률을 낯추는데 기여하고 있음"
   ]
  },
  {
   "cell_type": "markdown",
   "metadata": {},
   "source": [
    "## 프로젝트 목적\n",
    "- 일본 특정 지역에서 선정한 레스토랑의 2016년 1월 ~ 2017년 4월의 방문 기록, 예약 기록 등을 토대로 미래의 레스토랑 이용자 수를 예측하는 회귀 문제\n",
    "- Train Data에서는 2016/1/1부터 2017/4/22까지의 기간에 대한 데이터를 포함하고 있고, 이를 토대로 Test Data에서는 2017/4/23부터 2017/5/31까지의 레스토랑별 방문자 수를 예측\n",
    "- 미래에 해당하는 주에는 ‘Golden Week’라는 일본의 공휴일 주가 겹쳐져 있음\n",
    "    - 골든위크(ゴールデンウィーク)는 일본에서 4월 말부터 5월 초까지 공휴일이 모여 있는 일주일(녹색의 날, 쇼와의 날, 헌법기념일, 국민의 휴일, 어린이날, 노동절)\n",
    "- 공휴일 주간에 식당이 휴업해 방문자가 없는 경우에는 scoring에서 배제\n",
    "- training data에서도 식당이 휴업한 경우, 제외하였음"
   ]
  },
  {
   "cell_type": "markdown",
   "metadata": {},
   "source": [
    "## 데이터셋 소개\n",
    "- 'Recruit Holdings'는 자동화 된 미래 고객 예측을 가능하게 할 수 있는 주요 데이터 세트에 고유한 액세스 권한 가지고 있음\n",
    "- 특히, Recruit Holdings는 Hot Pepper Gourmet(레스토랑 리뷰 서비스 - 사용자가 레스토랑을 검색하고 온라인으로 예약할 수도 있음), AirREGI(레스토랑 POS 서비스 - 예약 제어 및 온라인 결제 시스템) 등을 소유하고 있음\n",
    "- 예약 및 방문 데이터를 사용하여 향후 날짜에 대한 레스토랑의 총 방문자 수 예측해야 됨\n",
    "- 학습 데이터 기간은 2016/1/1부터 2017/4/22까지이고 테스트 기간은 2017/4/23부터 2017/5/31\n",
    "- 레스토랑 정보에서 경도와 위도의 경우, 임의로 지정되었음\n",
    "\n",
    "<br>\n",
    "\n",
    "\n",
    "### 각 데이터셋 소개\n",
    "- air_reserve: air 시스템에서의 레스토랑 예약 내역\n",
    "    - air_store_id : air 시스템 상 레스토랑의 ID\n",
    "    - reserve_datetime: 예약을 한 시기\n",
    "    - visit_datetime: 방문 예정 시기\n",
    "    - reserve_visitors: 방문 예정 인원 수\n",
    "- air_store: 선정된 air 레스토랑에 관한 기본 정보\n",
    "    - air_store_id: air 시스템 상 레스토랑의 ID\n",
    "    - air_genre_name: 레스토랑 업종\n",
    "    - air_area_name: 레스토랑이 속한 도시명\n",
    "    - latitude: 경도\n",
    "    - longtitude: 위도\n",
    "- air_visit_data: air 레스토랑에 방문했던 이들의 방문 데이터\n",
    "    - air_store_id: air 시스템상 레스토랑의 ID\n",
    "    - visit_date: 레스토랑을 방문한 날짜\n",
    "    - visitors: 해당 일시에 레스토랑을 방문한 인원 수\n",
    "- date_info: 토요일, 일요일을 포함한 일본의 공휴일 표시\n",
    "    - 0: 평일\n",
    "    - 1: 토요일, 일요일 포함한 공휴일\n",
    "- hpg_reserve: hpg 시스템에서의 레스토랑 예약 내역\n",
    "    - hpg_store_id: hpg 시스템 상 레스토랑의 ID\n",
    "    - reserve_datetime: 예약을 한 시기\n",
    "    - visit_datetime: 방문 예정 시기\n",
    "    - reserve_visitors: 방문 예정 인원 수\n",
    "- hpg_store_info: 선정된 hpg 레스토랑에 관한 정보\n",
    "    - air_store_id: air 시스템 상 레스토랑의 ID\n",
    "    - air_genre_name: 레스토랑 업종\n",
    "    - air_area_name: 레스토랑이 속한 도시명\n",
    "    - latitude: 경도\n",
    "    - longtitude: 위도\n",
    "- sample_submission: 테스트 데이터\n",
    "    - id: air_store_id와 visit_date를 concate한 것\n",
    "    - visitors: 해당 일자에 방문하기로 한 방문자의 수\n",
    "- store_id_relation: air, hpg 시스템 상에서의 레스토랑의 고유 id"
   ]
  },
  {
   "cell_type": "markdown",
   "metadata": {},
   "source": [
    "## 개발환경\n",
    "- Python 3.7.9\n",
    "- Pandas\n",
    "- Numpy 1.19.5\n",
    "\n",
    "- Scikit-Learn 0.23.0\n",
    "- Matplotlib 3.3.3\n",
    "- Seaborn 0.11.1\n",
    "\n",
    "- Lightgbm 3.1.1\n",
    "- XGBoost 1.3.3"
   ]
  },
  {
   "cell_type": "code",
   "execution_count": null,
   "metadata": {},
   "outputs": [],
   "source": []
  },
  {
   "cell_type": "markdown",
   "metadata": {},
   "source": [
    "## 결론\n",
    "- 1. Feature_Importance 결과 서술"
   ]
  },
  {
   "cell_type": "markdown",
   "metadata": {},
   "source": [
    "## 향후 작업\n",
    "- 1. 데이터셋에 레스토랑에서의 주차공간 제공, 예약금 여부, 방문한 고객의 정보(나이, 성별, 식사 유형, 국적 등)에 대한 Feature가 존재했다면 보다 다양한 측면에서의 고객 수 예측이 가능했을 것으로 전망\n",
    "- "
   ]
  },
  {
   "cell_type": "code",
   "execution_count": null,
   "metadata": {},
   "outputs": [],
   "source": []
  }
 ],
 "metadata": {
  "kernelspec": {
   "display_name": "Python 3",
   "language": "python",
   "name": "python3"
  },
  "language_info": {
   "codemirror_mode": {
    "name": "ipython",
    "version": 3
   },
   "file_extension": ".py",
   "mimetype": "text/x-python",
   "name": "python",
   "nbconvert_exporter": "python",
   "pygments_lexer": "ipython3",
   "version": "3.8.10"
  },
  "varInspector": {
   "cols": {
    "lenName": 16,
    "lenType": 16,
    "lenVar": 40
   },
   "kernels_config": {
    "python": {
     "delete_cmd_postfix": "",
     "delete_cmd_prefix": "del ",
     "library": "var_list.py",
     "varRefreshCmd": "print(var_dic_list())"
    },
    "r": {
     "delete_cmd_postfix": ") ",
     "delete_cmd_prefix": "rm(",
     "library": "var_list.r",
     "varRefreshCmd": "cat(var_dic_list()) "
    }
   },
   "types_to_exclude": [
    "module",
    "function",
    "builtin_function_or_method",
    "instance",
    "_Feature"
   ],
   "window_display": false
  }
 },
 "nbformat": 4,
 "nbformat_minor": 4
}
