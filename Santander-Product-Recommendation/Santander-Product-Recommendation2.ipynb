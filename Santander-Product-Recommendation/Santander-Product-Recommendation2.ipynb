{
 "cells": [
  {
   "cell_type": "markdown",
   "metadata": {},
   "source": [
    "# Kaggle : Santander Product Recommendation\n",
    "- In this competition, you are provided with 1.5 years of customers behavior data from Santander bank to predict what new products customers will purchase.\n",
    "- The data starts at 2015-01-28 and has monthly records of products a customer has, such as \"credit card\", \"savings account\", etc.\n",
    "- **you will predict what additional products a customer will get in the last month, 2016-06-28, in addition to what they already have at 2016-05-28. These products are the columns named: ind_(xyz)_ult1, which are the columns #25 - #48 in the training data.**\n",
    "- you will predict what a customer will buy in addition to what they already had at 2016-05-28. "
   ]
  },
  {
   "cell_type": "markdown",
   "metadata": {},
   "source": [
    "## Data Dictionary\n",
    "### Variable\n",
    " - #### Property of Customer\n",
    "    - fecha_dato : The table is partitioned for this column\n",
    "    - ncodpers : Customer code\n",
    "    - ind_empleado : Employee index(A active, B ex employed, F filial, N not employee, P pasive\n",
    "    - pais_residencia : Customer's Country residence\n",
    "    - sexo : Customer's sex\n",
    "    - age : Age\n",
    "    - fecha_alta : The data in which the customer became as the first holder of a contract in the bank\n",
    "    - antiguedad : Customer seniority(in months)\n",
    "    - indrel : 1(First/Primary), 99(Primary customer during the month but not at the end of the month)\n",
    "    - ult_fec_cli_1t : Last date as primary customer (if he isn't at the end of the month)\n",
    "    - indrel_1mes : Customer type at the begining of the month, 1(First/Primary customer), 2(co-owner), P(Potential), 3(former primary), 4(former co-owner)\n",
    "    - indresi : Residence index( S(Yes) or N(No) if the residence country is the same than the bank country)\n",
    "    - indext : Foreigner index(S(Yes) or N(No) if the customer's bitrh country is differenct than the bank country)\n",
    "    - conyuemp : Spouse index. 1 if the customer is spouse of an employee\n",
    "    - canal_entrada : channel used by the customer to join\n",
    "    - indfall : Deceased index. N/S\n",
    "    - tipodom : Addres type. 1, primary address\n",
    "    - cod_prov : Province code (customer's address)\n",
    "    - nomprov : Province name\n",
    "    - ind_actividad_cliente : Activity index (1, active customer; 0, inactive customer)\n",
    "    - renta : Gross income of the household\n",
    "    - segmento : Segmentation : 01 - VIP, 02 - Individuals, 03 - college graduated\n",
    " - #### Products(ind_aaa_aaa_ult1)\n",
    "    - ahor_ahor : Saving Account\n",
    "    - aval_fin : Guarantees\n",
    "    - cco_fin : Current Accounts\n",
    "    - cder_fin : Derivada Account\n",
    "    - cno_fin : Payroll Account\n",
    "    - ctju_fin : Junior Account\n",
    "    - ctma_fin : Mas particular Account\n",
    "    - ctop_fin : particular Account\n",
    "    - ctpp_fin : particular Plus Account\n",
    "    - deco_fin : Short-term deposits\n",
    "    - deme_fin : Medium-term deposits\n",
    "    - dela_fin : Long-term deposits\n",
    "    - ecue_fin : e-account\n",
    "    - fond_inf : Funds\n",
    "    - hip_fin : Mortgage\n",
    "    - plan_fin : Pensions\n",
    "    - pres_fin : Loans\n",
    "    - reca_fin : Taxes\n",
    "    - tjcr_fin : Credit Card\n",
    "    - valo_fin : Securities\n",
    "    - viv_fin : Home Account\n",
    "    - nomina : Payroll\n",
    "    - nom_pens : Pensions\n",
    "    - recibo : Direct Debit"
   ]
  },
  {
   "cell_type": "code",
   "execution_count": 1,
   "metadata": {},
   "outputs": [],
   "source": [
    "import pandas as pd\n",
    "import numpy as np\n",
    "import seaborn as sns\n",
    "import matplotlib.pyplot as plt\n",
    "\n",
    "%matplotlib inline"
   ]
  },
  {
   "cell_type": "markdown",
   "metadata": {},
   "source": [
    "## 1. Data Exploratory"
   ]
  },
  {
   "cell_type": "code",
   "execution_count": 2,
   "metadata": {
    "scrolled": true
   },
   "outputs": [
    {
     "name": "stderr",
     "output_type": "stream",
     "text": [
      "C:\\Users\\PhotoLab_Deep\\Anaconda3\\lib\\site-packages\\IPython\\core\\interactiveshell.py:2785: DtypeWarning: Columns (5,8,11,15) have mixed types. Specify dtype option on import or set low_memory=False.\n",
      "  interactivity=interactivity, compiler=compiler, result=result)\n"
     ]
    }
   ],
   "source": [
    "train = pd.read_csv('train_ver2.csv')"
   ]
  },
  {
   "cell_type": "code",
   "execution_count": 3,
   "metadata": {},
   "outputs": [
    {
     "data": {
      "text/html": [
       "<div>\n",
       "<style scoped>\n",
       "    .dataframe tbody tr th:only-of-type {\n",
       "        vertical-align: middle;\n",
       "    }\n",
       "\n",
       "    .dataframe tbody tr th {\n",
       "        vertical-align: top;\n",
       "    }\n",
       "\n",
       "    .dataframe thead th {\n",
       "        text-align: right;\n",
       "    }\n",
       "</style>\n",
       "<table border=\"1\" class=\"dataframe\">\n",
       "  <thead>\n",
       "    <tr style=\"text-align: right;\">\n",
       "      <th></th>\n",
       "      <th>fecha_dato</th>\n",
       "      <th>ncodpers</th>\n",
       "      <th>ind_empleado</th>\n",
       "      <th>pais_residencia</th>\n",
       "      <th>sexo</th>\n",
       "      <th>age</th>\n",
       "      <th>fecha_alta</th>\n",
       "      <th>ind_nuevo</th>\n",
       "      <th>antiguedad</th>\n",
       "      <th>indrel</th>\n",
       "      <th>...</th>\n",
       "      <th>ind_hip_fin_ult1</th>\n",
       "      <th>ind_plan_fin_ult1</th>\n",
       "      <th>ind_pres_fin_ult1</th>\n",
       "      <th>ind_reca_fin_ult1</th>\n",
       "      <th>ind_tjcr_fin_ult1</th>\n",
       "      <th>ind_valo_fin_ult1</th>\n",
       "      <th>ind_viv_fin_ult1</th>\n",
       "      <th>ind_nomina_ult1</th>\n",
       "      <th>ind_nom_pens_ult1</th>\n",
       "      <th>ind_recibo_ult1</th>\n",
       "    </tr>\n",
       "  </thead>\n",
       "  <tbody>\n",
       "    <tr>\n",
       "      <th>13647304</th>\n",
       "      <td>2016-05-28</td>\n",
       "      <td>1166765</td>\n",
       "      <td>N</td>\n",
       "      <td>ES</td>\n",
       "      <td>V</td>\n",
       "      <td>22</td>\n",
       "      <td>2013-08-14</td>\n",
       "      <td>0.0</td>\n",
       "      <td>33</td>\n",
       "      <td>1.0</td>\n",
       "      <td>...</td>\n",
       "      <td>0</td>\n",
       "      <td>0</td>\n",
       "      <td>0</td>\n",
       "      <td>0</td>\n",
       "      <td>0</td>\n",
       "      <td>0</td>\n",
       "      <td>0</td>\n",
       "      <td>0.0</td>\n",
       "      <td>0.0</td>\n",
       "      <td>0</td>\n",
       "    </tr>\n",
       "    <tr>\n",
       "      <th>13647305</th>\n",
       "      <td>2016-05-28</td>\n",
       "      <td>1166764</td>\n",
       "      <td>N</td>\n",
       "      <td>ES</td>\n",
       "      <td>V</td>\n",
       "      <td>23</td>\n",
       "      <td>2013-08-14</td>\n",
       "      <td>0.0</td>\n",
       "      <td>33</td>\n",
       "      <td>1.0</td>\n",
       "      <td>...</td>\n",
       "      <td>0</td>\n",
       "      <td>0</td>\n",
       "      <td>0</td>\n",
       "      <td>0</td>\n",
       "      <td>0</td>\n",
       "      <td>0</td>\n",
       "      <td>0</td>\n",
       "      <td>0.0</td>\n",
       "      <td>0.0</td>\n",
       "      <td>0</td>\n",
       "    </tr>\n",
       "    <tr>\n",
       "      <th>13647306</th>\n",
       "      <td>2016-05-28</td>\n",
       "      <td>1166763</td>\n",
       "      <td>N</td>\n",
       "      <td>ES</td>\n",
       "      <td>H</td>\n",
       "      <td>47</td>\n",
       "      <td>2013-08-14</td>\n",
       "      <td>0.0</td>\n",
       "      <td>33</td>\n",
       "      <td>1.0</td>\n",
       "      <td>...</td>\n",
       "      <td>0</td>\n",
       "      <td>0</td>\n",
       "      <td>0</td>\n",
       "      <td>0</td>\n",
       "      <td>0</td>\n",
       "      <td>0</td>\n",
       "      <td>0</td>\n",
       "      <td>0.0</td>\n",
       "      <td>0.0</td>\n",
       "      <td>0</td>\n",
       "    </tr>\n",
       "    <tr>\n",
       "      <th>13647307</th>\n",
       "      <td>2016-05-28</td>\n",
       "      <td>1166789</td>\n",
       "      <td>N</td>\n",
       "      <td>ES</td>\n",
       "      <td>H</td>\n",
       "      <td>22</td>\n",
       "      <td>2013-08-14</td>\n",
       "      <td>0.0</td>\n",
       "      <td>33</td>\n",
       "      <td>1.0</td>\n",
       "      <td>...</td>\n",
       "      <td>0</td>\n",
       "      <td>0</td>\n",
       "      <td>0</td>\n",
       "      <td>0</td>\n",
       "      <td>0</td>\n",
       "      <td>0</td>\n",
       "      <td>0</td>\n",
       "      <td>0.0</td>\n",
       "      <td>0.0</td>\n",
       "      <td>0</td>\n",
       "    </tr>\n",
       "    <tr>\n",
       "      <th>13647308</th>\n",
       "      <td>2016-05-28</td>\n",
       "      <td>1550586</td>\n",
       "      <td>N</td>\n",
       "      <td>ES</td>\n",
       "      <td>H</td>\n",
       "      <td>37</td>\n",
       "      <td>2016-05-13</td>\n",
       "      <td>1.0</td>\n",
       "      <td>0</td>\n",
       "      <td>1.0</td>\n",
       "      <td>...</td>\n",
       "      <td>0</td>\n",
       "      <td>0</td>\n",
       "      <td>0</td>\n",
       "      <td>0</td>\n",
       "      <td>0</td>\n",
       "      <td>0</td>\n",
       "      <td>0</td>\n",
       "      <td>0.0</td>\n",
       "      <td>0.0</td>\n",
       "      <td>0</td>\n",
       "    </tr>\n",
       "  </tbody>\n",
       "</table>\n",
       "<p>5 rows × 48 columns</p>\n",
       "</div>"
      ],
      "text/plain": [
       "          fecha_dato  ncodpers ind_empleado pais_residencia sexo age  \\\n",
       "13647304  2016-05-28   1166765            N              ES    V  22   \n",
       "13647305  2016-05-28   1166764            N              ES    V  23   \n",
       "13647306  2016-05-28   1166763            N              ES    H  47   \n",
       "13647307  2016-05-28   1166789            N              ES    H  22   \n",
       "13647308  2016-05-28   1550586            N              ES    H  37   \n",
       "\n",
       "          fecha_alta  ind_nuevo antiguedad  indrel       ...         \\\n",
       "13647304  2013-08-14        0.0         33     1.0       ...          \n",
       "13647305  2013-08-14        0.0         33     1.0       ...          \n",
       "13647306  2013-08-14        0.0         33     1.0       ...          \n",
       "13647307  2013-08-14        0.0         33     1.0       ...          \n",
       "13647308  2016-05-13        1.0          0     1.0       ...          \n",
       "\n",
       "         ind_hip_fin_ult1 ind_plan_fin_ult1 ind_pres_fin_ult1  \\\n",
       "13647304                0                 0                 0   \n",
       "13647305                0                 0                 0   \n",
       "13647306                0                 0                 0   \n",
       "13647307                0                 0                 0   \n",
       "13647308                0                 0                 0   \n",
       "\n",
       "         ind_reca_fin_ult1 ind_tjcr_fin_ult1 ind_valo_fin_ult1  \\\n",
       "13647304                 0                 0                 0   \n",
       "13647305                 0                 0                 0   \n",
       "13647306                 0                 0                 0   \n",
       "13647307                 0                 0                 0   \n",
       "13647308                 0                 0                 0   \n",
       "\n",
       "         ind_viv_fin_ult1 ind_nomina_ult1  ind_nom_pens_ult1  ind_recibo_ult1  \n",
       "13647304                0             0.0                0.0                0  \n",
       "13647305                0             0.0                0.0                0  \n",
       "13647306                0             0.0                0.0                0  \n",
       "13647307                0             0.0                0.0                0  \n",
       "13647308                0             0.0                0.0                0  \n",
       "\n",
       "[5 rows x 48 columns]"
      ]
     },
     "execution_count": 3,
     "metadata": {},
     "output_type": "execute_result"
    }
   ],
   "source": [
    "train.tail()"
   ]
  },
  {
   "cell_type": "code",
   "execution_count": 4,
   "metadata": {
    "scrolled": true
   },
   "outputs": [
    {
     "name": "stdout",
     "output_type": "stream",
     "text": [
      "<class 'pandas.core.frame.DataFrame'>\n",
      "RangeIndex: 13647309 entries, 0 to 13647308\n",
      "Data columns (total 48 columns):\n",
      "fecha_dato               object\n",
      "ncodpers                 int64\n",
      "ind_empleado             object\n",
      "pais_residencia          object\n",
      "sexo                     object\n",
      "age                      object\n",
      "fecha_alta               object\n",
      "ind_nuevo                float64\n",
      "antiguedad               object\n",
      "indrel                   float64\n",
      "ult_fec_cli_1t           object\n",
      "indrel_1mes              object\n",
      "tiprel_1mes              object\n",
      "indresi                  object\n",
      "indext                   object\n",
      "conyuemp                 object\n",
      "canal_entrada            object\n",
      "indfall                  object\n",
      "tipodom                  float64\n",
      "cod_prov                 float64\n",
      "nomprov                  object\n",
      "ind_actividad_cliente    float64\n",
      "renta                    float64\n",
      "segmento                 object\n",
      "ind_ahor_fin_ult1        int64\n",
      "ind_aval_fin_ult1        int64\n",
      "ind_cco_fin_ult1         int64\n",
      "ind_cder_fin_ult1        int64\n",
      "ind_cno_fin_ult1         int64\n",
      "ind_ctju_fin_ult1        int64\n",
      "ind_ctma_fin_ult1        int64\n",
      "ind_ctop_fin_ult1        int64\n",
      "ind_ctpp_fin_ult1        int64\n",
      "ind_deco_fin_ult1        int64\n",
      "ind_deme_fin_ult1        int64\n",
      "ind_dela_fin_ult1        int64\n",
      "ind_ecue_fin_ult1        int64\n",
      "ind_fond_fin_ult1        int64\n",
      "ind_hip_fin_ult1         int64\n",
      "ind_plan_fin_ult1        int64\n",
      "ind_pres_fin_ult1        int64\n",
      "ind_reca_fin_ult1        int64\n",
      "ind_tjcr_fin_ult1        int64\n",
      "ind_valo_fin_ult1        int64\n",
      "ind_viv_fin_ult1         int64\n",
      "ind_nomina_ult1          float64\n",
      "ind_nom_pens_ult1        float64\n",
      "ind_recibo_ult1          int64\n",
      "dtypes: float64(8), int64(23), object(17)\n",
      "memory usage: 4.9+ GB\n"
     ]
    }
   ],
   "source": [
    "train.info()"
   ]
  },
  {
   "cell_type": "code",
   "execution_count": 5,
   "metadata": {
    "scrolled": true
   },
   "outputs": [
    {
     "data": {
      "text/plain": [
       "fecha_dato                      0\n",
       "ncodpers                        0\n",
       "ind_empleado                27734\n",
       "pais_residencia             27734\n",
       "sexo                        27804\n",
       "age                             0\n",
       "fecha_alta                  27734\n",
       "ind_nuevo                   27734\n",
       "antiguedad                      0\n",
       "indrel                      27734\n",
       "ult_fec_cli_1t           13622516\n",
       "indrel_1mes                149781\n",
       "tiprel_1mes                149781\n",
       "indresi                     27734\n",
       "indext                      27734\n",
       "conyuemp                 13645501\n",
       "canal_entrada              186126\n",
       "indfall                     27734\n",
       "tipodom                     27735\n",
       "cod_prov                    93591\n",
       "nomprov                     93591\n",
       "ind_actividad_cliente       27734\n",
       "renta                     2794375\n",
       "segmento                   189368\n",
       "ind_ahor_fin_ult1               0\n",
       "ind_aval_fin_ult1               0\n",
       "ind_cco_fin_ult1                0\n",
       "ind_cder_fin_ult1               0\n",
       "ind_cno_fin_ult1                0\n",
       "ind_ctju_fin_ult1               0\n",
       "ind_ctma_fin_ult1               0\n",
       "ind_ctop_fin_ult1               0\n",
       "ind_ctpp_fin_ult1               0\n",
       "ind_deco_fin_ult1               0\n",
       "ind_deme_fin_ult1               0\n",
       "ind_dela_fin_ult1               0\n",
       "ind_ecue_fin_ult1               0\n",
       "ind_fond_fin_ult1               0\n",
       "ind_hip_fin_ult1                0\n",
       "ind_plan_fin_ult1               0\n",
       "ind_pres_fin_ult1               0\n",
       "ind_reca_fin_ult1               0\n",
       "ind_tjcr_fin_ult1               0\n",
       "ind_valo_fin_ult1               0\n",
       "ind_viv_fin_ult1                0\n",
       "ind_nomina_ult1             16063\n",
       "ind_nom_pens_ult1           16063\n",
       "ind_recibo_ult1                 0\n",
       "dtype: int64"
      ]
     },
     "execution_count": 5,
     "metadata": {},
     "output_type": "execute_result"
    }
   ],
   "source": [
    "train.isnull().sum()"
   ]
  },
  {
   "cell_type": "code",
   "execution_count": 6,
   "metadata": {},
   "outputs": [
    {
     "name": "stdout",
     "output_type": "stream",
     "text": [
      "mixed types columns :  ['age', 'antiguedad', 'indrel_1mes', 'conyuemp']\n"
     ]
    }
   ],
   "source": [
    "train_mixed_columns = [train.columns[i] for i in [5, 8, 11, 15]]\n",
    "print('mixed types columns : ', train_mixed_columns)"
   ]
  },
  {
   "cell_type": "code",
   "execution_count": 30,
   "metadata": {},
   "outputs": [
    {
     "name": "stdout",
     "output_type": "stream",
     "text": [
      "['ncodpers', 'ind_nuevo', 'indrel', 'tipodom', 'cod_prov', 'ind_actividad_cliente', 'renta']\n",
      "\n",
      "['fecha_dato', 'ind_empleado', 'pais_residencia', 'sexo', 'fecha_alta', 'ult_fec_cli_1t', 'tiprel_1mes', 'indresi', 'indext', 'conyuemp', 'canal_entrada', 'indfall', 'nomprov', 'segmento']\n"
     ]
    }
   ],
   "source": [
    "# numeric columns\n",
    "number_cols = [col for col in train.columns[:24] if train[col].dtype in ['int64', 'float64']]\n",
    "\n",
    "# categorical columns\n",
    "cat_cols = [col for col in train.columns[:24] if train[col].dtype in ['object']]\n",
    "\n",
    "print(number_cols)\n",
    "print()\n",
    "print(cat_cols)"
   ]
  },
  {
   "cell_type": "markdown",
   "metadata": {},
   "source": [
    "## Handle Mixed types columns\n",
    "- 5 columns of train data\n",
    "### train mixed types columns"
   ]
  },
  {
   "cell_type": "code",
   "execution_count": 7,
   "metadata": {
    "scrolled": true
   },
   "outputs": [
    {
     "name": "stdout",
     "output_type": "stream",
     "text": [
      "['age', 'antiguedad', 'indrel_1mes', 'conyuemp']\n"
     ]
    }
   ],
   "source": [
    "print(train_mixed_columns)"
   ]
  },
  {
   "cell_type": "code",
   "execution_count": 9,
   "metadata": {},
   "outputs": [
    {
     "data": {
      "text/plain": [
       "array([ 35,  23,  22,  24,  65,  28,  25,  26,  53,  27,  32,  37,  31,\n",
       "        39,  63,  33,  55,  42,  58,  38,  50,  30,  45,  44,  36,  29,\n",
       "        60,  57,  67,  47, -99,  34,  48,  46,  54,  84,  15,  12,   8,\n",
       "         6,  83,  40,  77,  69,  52,  59,  43,  10,   9,  49,  41,  51,\n",
       "        78,  16,  11,  73,  62,  66,  17,  68,  82,  95,  96,  56,  61,\n",
       "        79,  72,  14,  19,  13,  86,  64,  20,  89,  71,   7,  70,  74,\n",
       "        21,  18,  75,   4,  80,  81,   5,  76,  92,  93,  85,  91,  87,\n",
       "        90,  94,  99,  98,  88,  97, 100, 101, 106, 103,   3,   2, 102,\n",
       "       104, 111, 107, 109, 105, 112, 115, 110, 116, 108, 113, 126, 117,\n",
       "       -93, 127, 114, -92], dtype=int64)"
      ]
     },
     "execution_count": 9,
     "metadata": {},
     "output_type": "execute_result"
    }
   ],
   "source": [
    "# 1. age\n",
    "train['age'].replace(' NA', -99, inplace = True)\n",
    "train['age'] = train['age'].astype(np.int8)\n",
    "train['age'].unique()"
   ]
  },
  {
   "cell_type": "code",
   "execution_count": 10,
   "metadata": {},
   "outputs": [
    {
     "data": {
      "text/plain": [
       "'     NA'"
      ]
     },
     "execution_count": 10,
     "metadata": {},
     "output_type": "execute_result"
    }
   ],
   "source": [
    "# 2. antihuedad\n",
    "train['antiguedad'].unique()[3]"
   ]
  },
  {
   "cell_type": "code",
   "execution_count": 12,
   "metadata": {},
   "outputs": [
    {
     "data": {
      "text/plain": [
       "array([   6,   35,   34,  -99,   33,   31,   21,   16,   27,    9,   22,\n",
       "         13,   29,    8,   11,   10,   28,   24,    7,   25,   14,   26,\n",
       "         12,   23,    1,   18,    4,    3,   17,   32,   30,   20,   15,\n",
       "         19,   36,    5,   40,   38,   37,   39,    0,    2,   47,   44,\n",
       "         42,   46,   45,   43,   41,   57,   48,   52,   49,   50,   56,\n",
       "         58,   51,   55,   54,   53,   59,   62,   61,   60,   63, -117,\n",
       "        -91,  118,  -92, -114,   94,  -97, -113,  105, -105,  -94, -119,\n",
       "       -106, -128,  122, -100,  119,  -96,   79,   95, -124,  -95,   98,\n",
       "        127,   72, -101,  108,  -93,  102, -108,  115, -110,  107,   81,\n",
       "        -40, -121,   92,  121,  -58, -122,   93, -116,  110,  120, -109,\n",
       "        116,   64,   77,   85,   99,   78,  100,  113, -102,  -90, -123,\n",
       "        124, -115,   66,  117,   86,  -63,   80, -112,   87,  126,  -98,\n",
       "        101,  -21,   88, -111,  103, -107,  109, -125,   97,   68,   84,\n",
       "        -24,  125,  -79,  112,   96,   69,  -85,  -89,  104,   76,   82,\n",
       "       -104,   70, -118,  -87,   65, -127,  -66,  114,  111,  -80, -103,\n",
       "         89, -120,   83,  123,  -69,  106,  -25,  -67,  -39,  -84,  -57,\n",
       "        -83,  -82,  -47,  -76,  -78,   91,  -88, -126,  -31,   67,   73,\n",
       "        -73,   74,  -50,   71,  -77,  -72,  -64,   90,  -62,  -74,  -68,\n",
       "        -43,  -71,  -61,  -70,  -49,  -48,   75,  -81,  -55,  -53,  -44,\n",
       "        -41,  -86,  -28,  -42,  -54,  -60,  -75,  -45,  -65,  -51,  -56,\n",
       "        -29,  -38,  -37,  -30,  -32,  -46,  -14,  -33,  -19,  -52,  -23,\n",
       "        -36,  -34,  -15,  -59,  -35,  -27,  -22,  -16,  -13,  -26,  -18,\n",
       "        -10,  -20,  -12,  -17,  -11,   -9,   -8,   -7,   -6,   -5,   -4,\n",
       "         -3,   -2,   -1], dtype=int64)"
      ]
     },
     "execution_count": 12,
     "metadata": {},
     "output_type": "execute_result"
    }
   ],
   "source": [
    "train['antiguedad'].replace('     NA', -99, inplace = True)\n",
    "train['antiguedad'] = train['antiguedad'].astype(np.int8)\n",
    "train['antiguedad'].unique()"
   ]
  },
  {
   "cell_type": "code",
   "execution_count": 13,
   "metadata": {},
   "outputs": [
    {
     "data": {
      "text/plain": [
       "array([1.0, nan, 3.0, 2.0, '1.0', '1', '3', '3.0', '2.0', '4.0', 'P', '4',\n",
       "       4.0, '2'], dtype=object)"
      ]
     },
     "execution_count": 13,
     "metadata": {},
     "output_type": "execute_result"
    }
   ],
   "source": [
    "# 3. indrel_1mes\n",
    "train['indrel_1mes'].unique()"
   ]
  },
  {
   "cell_type": "code",
   "execution_count": 17,
   "metadata": {},
   "outputs": [
    {
     "data": {
      "text/plain": [
       "array([  1, -99,   3,   2,   4,   5], dtype=int64)"
      ]
     },
     "execution_count": 17,
     "metadata": {},
     "output_type": "execute_result"
    }
   ],
   "source": [
    "train['indrel_1mes'].replace('P', 5, inplace = True)\n",
    "train['indrel_1mes'].fillna(-99, inplace = True)\n",
    "train['indrel_1mes'] = train['indrel_1mes'].astype(float).astype(np.int8)\n",
    "train['indrel_1mes'].unique()"
   ]
  },
  {
   "cell_type": "code",
   "execution_count": 23,
   "metadata": {
    "scrolled": true
   },
   "outputs": [
    {
     "name": "stdout",
     "output_type": "stream",
     "text": [
      "[nan 'N' 'S']\n"
     ]
    },
    {
     "data": {
      "text/plain": [
       "N    1791\n",
       "S      17\n",
       "Name: conyuemp, dtype: int64"
      ]
     },
     "execution_count": 23,
     "metadata": {},
     "output_type": "execute_result"
    }
   ],
   "source": [
    "# 4. conyuemp\n",
    "print(train['conyuemp'].unique())\n",
    "train['conyuemp'].value_counts()\n",
    "\n",
    "# It should be removed?"
   ]
  },
  {
   "cell_type": "code",
   "execution_count": 39,
   "metadata": {},
   "outputs": [
    {
     "data": {
      "text/plain": [
       "['ncodpers',\n",
       " 'ind_nuevo',\n",
       " 'indrel',\n",
       " 'tipodom',\n",
       " 'cod_prov',\n",
       " 'ind_actividad_cliente',\n",
       " 'renta']"
      ]
     },
     "execution_count": 39,
     "metadata": {},
     "output_type": "execute_result"
    }
   ],
   "source": [
    "number_cols"
   ]
  },
  {
   "cell_type": "code",
   "execution_count": 45,
   "metadata": {
    "scrolled": true
   },
   "outputs": [
    {
     "name": "stdout",
     "output_type": "stream",
     "text": [
      "[1375586 1050611 1050612 ... 1173729 1164094 1550586]\n",
      "[0.         0.05956184 1.        ]\n",
      "[ 1.          1.17839867 99.        ]\n",
      "[1.]\n",
      "[29.         13.         50.         45.         24.         20.\n",
      " 10.         17.         49.          8.         37.          9.\n",
      " 22.         31.          5.         40.         27.         25.\n",
      " 28.          3.         42.         41.         39.          7.\n",
      " 47.         36.         46.         44.         15.         32.\n",
      " 23.         16.         48.         12.         26.          2.\n",
      "  6.         30.         11.         26.57146961  4.         19.\n",
      " 34.         35.         14.         21.         18.         33.\n",
      " 38.         52.         43.          1.         51.        ]\n",
      "[1.         0.         0.45781054]\n",
      "[ 87218.1   35548.74 122179.11 ...  63867.66  34341.18  89018.37]\n"
     ]
    }
   ],
   "source": [
    "for col in number_cols:\n",
    "    print(train[col].unique())"
   ]
  },
  {
   "cell_type": "code",
   "execution_count": 44,
   "metadata": {},
   "outputs": [],
   "source": [
    "train[number_cols] = train[number_cols].fillna(train[number_cols].mean())"
   ]
  },
  {
   "cell_type": "markdown",
   "metadata": {},
   "source": [
    "## Visualization"
   ]
  },
  {
   "cell_type": "code",
   "execution_count": null,
   "metadata": {},
   "outputs": [
    {
     "data": {
      "text/plain": [
       "<seaborn.axisgrid.PairGrid at 0x2574cdb9c18>"
      ]
     },
     "execution_count": 46,
     "metadata": {},
     "output_type": "execute_result"
    },
    {
     "data": {
      "text/plain": [
       "<Figure size 1080x1080 with 0 Axes>"
      ]
     },
     "metadata": {},
     "output_type": "display_data"
    }
   ],
   "source": [
    "plt.figure(figsize = (15,15))\n",
    "sns.set()\n",
    "sns.pairplot(train[number_cols[4:]], dropna = True)"
   ]
  },
  {
   "cell_type": "markdown",
   "metadata": {},
   "source": [
    "# Question\n",
    "## 1. train.loc\n",
    "- train.loc[train['age'].dtype == 'object', 'age'] - Why this code is not working?"
   ]
  },
  {
   "cell_type": "code",
   "execution_count": null,
   "metadata": {},
   "outputs": [],
   "source": []
  }
 ],
 "metadata": {
  "kernelspec": {
   "display_name": "Python 3",
   "language": "python",
   "name": "python3"
  },
  "language_info": {
   "codemirror_mode": {
    "name": "ipython",
    "version": 3
   },
   "file_extension": ".py",
   "mimetype": "text/x-python",
   "name": "python",
   "nbconvert_exporter": "python",
   "pygments_lexer": "ipython3",
   "version": "3.6.5"
  },
  "varInspector": {
   "cols": {
    "lenName": 16,
    "lenType": 16,
    "lenVar": 40
   },
   "kernels_config": {
    "python": {
     "delete_cmd_postfix": "",
     "delete_cmd_prefix": "del ",
     "library": "var_list.py",
     "varRefreshCmd": "print(var_dic_list())"
    },
    "r": {
     "delete_cmd_postfix": ") ",
     "delete_cmd_prefix": "rm(",
     "library": "var_list.r",
     "varRefreshCmd": "cat(var_dic_list()) "
    }
   },
   "types_to_exclude": [
    "module",
    "function",
    "builtin_function_or_method",
    "instance",
    "_Feature"
   ],
   "window_display": false
  }
 },
 "nbformat": 4,
 "nbformat_minor": 2
}
